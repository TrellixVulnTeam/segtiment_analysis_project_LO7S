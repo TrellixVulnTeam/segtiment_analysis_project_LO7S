{
 "cells": [
  {
   "cell_type": "code",
   "execution_count": 1,
   "metadata": {},
   "outputs": [],
   "source": [
    "from bs4 import BeautifulSoup\n",
    "import requests\n",
    "import pandas as pd\n",
    "import numpy\n",
    "import time\n",
    "import json"
   ]
  },
  {
   "cell_type": "code",
   "execution_count": 2,
   "metadata": {},
   "outputs": [],
   "source": [
    "#setting\n",
    "headers = {\n",
    "    'authority':'www.wegmans.com',\n",
    "    'method':'GET',\n",
    "    'path':'/',\n",
    "    'scheme':'https',\n",
    "    'accept':'text/html,application/xhtml+xml,application/xml;q=0.9,image/avif,image/webp,image/apng,*/*;q=0.8,application/signed-exchange;v=b3;q=0.9',\n",
    "    'accept-encoding':'gzip, deflate, br',\n",
    "    'accept-language':'zh-TW,zh;q=0.9,en-US;q=0.8,en;q=0.7',\n",
    "    'cache-control':'max-age=0',\n",
    "    'cookie':'__cfduid=dd10f476f7a0801590b55fa80423ca3ab1608279552; cookielawinfo-checkbox-necessary=yes; cookielawinfo-checkbox-non-necessary=yes; _fbp=fb.1.1608279553642.1900177583; AMCVS_68B620B35350F1650A490D45%40AdobeOrg=1; _pin_unauth=dWlkPU5UVTFOMlE0TmpndE1qSXlNaTAwTURrNUxUa3paVFV0T1RVME56YzVaRGM1WkRVeA; _uetsid=b818be00410911eba5698dda014d9b8d; _uetvid=b819afa0410911ebb45a5f360977d3a7; wfmStoreId=16; at_check=true; mbox=session#ee79cb4ec31046478b00f6bde36c630f#1608281414|PC#ee79cb4ec31046478b00f6bde36c630f.38_0#1671524361; wegmans.chatbot.closed=1; gpv_pn=Wegmans%20Food%20Markets%3A%20Grocery%20%26%20Meal%20Delivery%20or%20Curbside; s_loginSuccess=not%20set; s_cc=true; AMCV_68B620B35350F1650A490D45%40AdobeOrg=-408604571%7CMCIDTS%7C18615%7CMCMID%7C23961411828712789900014225711269113269%7CMCAAMLH-1608884362%7C11%7CMCAAMB-1608884362%7CRKhpRz8krg2tLO6pguXWp5olkAcUniQYPHaMWWgdJ3xzPWQmdj0y%7CMCOPTOUT-1608286762s%7CNONE%7CMCCIDH%7C744162127%7CvVersion%7C4.6.0; ajs_anonymous_id=%224d3b43f2-caf4-424e-ad2d-e93ef01ba1ad%22; s_sq=wegmansglobalprod%3D%2526c.%2526a.%2526activitymap.%2526page%253DWegmans%252520Food%252520Markets%25253A%252520Grocery%252520%252526%252520Meal%252520Delivery%252520or%252520Curbside%2526link%253D%2525C3%252597%2526region%253Dblock-sign-in-benefits%2526pageIDType%253D1%2526.activitymap%2526.a%2526.c%2526pid%253DWegmans%252520Food%252520Markets%25253A%252520Grocery%252520%252526%252520Meal%252520Delivery%252520or%252520Curbside%2526pidt%253D1%2526oid%253Dhttps%25253A%25252F%25252Fwww.wegmans.com%25252F%252523%2526ot%253DA; session-prd-weg=.eJxNjE1TgzAARP9LzrXDR22Fm4LSMAamLTTUCwMkhUgIDAmt4PjfzYwXD3t5u_u-QX4dqWyAey24pCuQD3TsCkGFAq4aJ00klZL1Ild9SwVwAZ3DpgwqFrMQpgs0IxY6aw3NyjrPOktl8VvJneHDg9vITw3kt3acIOvd-9tkFm_hZ29HS73EybOBvDu74KMq8OO_fpgI_pL605SdM1Fs3kiGWCyOM8GphB1viPaj5HKPfaj9qRnZxnpv42A41OFDgU6n6i0z1Wt0xvsx4Ehsg01TceX7dXKwXhBYgUnSMWcEuLvdk-0YG-PnF5RiWlc.Er33jw.Q87O85i2Ofs5om0kZKlYGidDCG8',\n",
    "    'sec-fetch-dest':'document',\n",
    "    'sec-fetch-mode':'navigate',\n",
    "    'sec-fetch-site':'none',\n",
    "    'sec-fetch-user':'?1',\n",
    "    'upgrade-insecure-requests':'1',\n",
    "    'user-agent':'Mozilla/5.0 (Windows NT 10.0; Win64; x64) AppleWebKit/537.36 (KHTML, like Gecko) Chrome/87.0.4280.88 Safari/537.36'\n",
    "}\n",
    "\n",
    "with open('./items.txt', 'r', encoding='utf-8') as r:\n",
    "    items = r.readlines()"
   ]
  },
  {
   "cell_type": "code",
   "execution_count": 17,
   "metadata": {},
   "outputs": [
    {
     "name": "stdout",
     "output_type": "stream",
     "text": [
      "0 finish\n",
      "1 finish\n"
     ]
    },
    {
     "ename": "FileNotFoundError",
     "evalue": "[Errno 2] No such file or directory: './comment/SOFT+DRINKS+12/18&15PK+CAN+CAR.txt'",
     "output_type": "error",
     "traceback": [
      "\u001b[1;31m---------------------------------------------------------------------------\u001b[0m",
      "\u001b[1;31mFileNotFoundError\u001b[0m                         Traceback (most recent call last)",
      "\u001b[1;32m<ipython-input-17-6385b3284146>\u001b[0m in \u001b[0;36m<module>\u001b[1;34m\u001b[0m\n\u001b[0;32m     31\u001b[0m \u001b[1;33m\u001b[0m\u001b[0m\n\u001b[0;32m     32\u001b[0m \u001b[1;31m#         print(review_mix)\u001b[0m\u001b[1;33m\u001b[0m\u001b[1;33m\u001b[0m\u001b[1;33m\u001b[0m\u001b[0m\n\u001b[1;32m---> 33\u001b[1;33m         \u001b[1;32mwith\u001b[0m \u001b[0mopen\u001b[0m\u001b[1;33m(\u001b[0m\u001b[1;34m'./comment/%s.txt'\u001b[0m \u001b[1;33m%\u001b[0m \u001b[1;33m(\u001b[0m\u001b[0mitem\u001b[0m\u001b[1;33m)\u001b[0m\u001b[1;33m,\u001b[0m \u001b[1;34m'w'\u001b[0m\u001b[1;33m,\u001b[0m \u001b[0mencoding\u001b[0m\u001b[1;33m=\u001b[0m\u001b[1;34m'utf-8'\u001b[0m\u001b[1;33m)\u001b[0m \u001b[1;32mas\u001b[0m \u001b[0mff\u001b[0m\u001b[1;33m:\u001b[0m\u001b[1;33m\u001b[0m\u001b[1;33m\u001b[0m\u001b[0m\n\u001b[0m\u001b[0;32m     34\u001b[0m             \u001b[0mff\u001b[0m\u001b[1;33m.\u001b[0m\u001b[0mwrite\u001b[0m\u001b[1;33m(\u001b[0m\u001b[0mreview_mix\u001b[0m\u001b[1;33m)\u001b[0m\u001b[1;33m\u001b[0m\u001b[1;33m\u001b[0m\u001b[0m\n\u001b[0;32m     35\u001b[0m \u001b[1;33m\u001b[0m\u001b[0m\n",
      "\u001b[1;31mFileNotFoundError\u001b[0m: [Errno 2] No such file or directory: './comment/SOFT+DRINKS+12/18&15PK+CAN+CAR.txt'"
     ]
    }
   ],
   "source": [
    "for n,item in enumerate(items):\n",
    "    \n",
    "    #Request first API to get skucode\n",
    "    item = item.replace('\\n','').replace(' ','+')\n",
    "    url = 'https://shop.wegmans.com/api/v2/store_products?limit=60&offset=0&search_provider=buffet&search_term=' + item + '&sort=rank'\n",
    "    res = requests.get(url=url,headers=headers)\n",
    "    data_json = json.loads(res.text)\n",
    "    front_id = []\n",
    "    back_id = []\n",
    "    \n",
    "    for i in data_json['items']:\n",
    "        id1 = i['id']\n",
    "        id2 = i['ext_id']\n",
    "        front_id.append(id1)\n",
    "        back_id.append(id2)\n",
    "        mix_id = zip(front_id,back_id)\n",
    "        review = ''\n",
    "        \n",
    "        #Request second API to get reviews\n",
    "        for i,j in mix_id:\n",
    "            review = 'https://shop.wegmans.com/api/v2/store_products/' + str(i) + '/review?sort=SubmissionTime&limit=100&offset=0&order=desc&sku=' + str(j)\n",
    "            rev_res = requests.get(url=review, headers=headers)\n",
    "            rev_json = json.loads(rev_res.text)\n",
    "            reviews = rev_json['user_reviews']['reviews']\n",
    "            \n",
    "            #Save reviews\n",
    "            for review_data in reviews:\n",
    "                if review_data['message'] != None:\n",
    "                    review += review_data['message']\n",
    "                    review += '\\n'\n",
    "        \n",
    "        item = item.replace('+','_').strip('\\n')\n",
    "        with open('./comment/Wegmans_reviews/%s.txt' % (item), 'w', encoding='utf-8') as w:\n",
    "            w.write(review)\n",
    "\n",
    "    print('%d finish' % (n))\n",
    "    time.sleep(2)"
   ]
  },
  {
   "cell_type": "code",
   "execution_count": null,
   "metadata": {},
   "outputs": [],
   "source": []
  }
 ],
 "metadata": {
  "kernelspec": {
   "display_name": "Python 3",
   "language": "python",
   "name": "python3"
  },
  "language_info": {
   "codemirror_mode": {
    "name": "ipython",
    "version": 3
   },
   "file_extension": ".py",
   "mimetype": "text/x-python",
   "name": "python",
   "nbconvert_exporter": "python",
   "pygments_lexer": "ipython3",
   "version": "3.7.4"
  }
 },
 "nbformat": 4,
 "nbformat_minor": 4
}
